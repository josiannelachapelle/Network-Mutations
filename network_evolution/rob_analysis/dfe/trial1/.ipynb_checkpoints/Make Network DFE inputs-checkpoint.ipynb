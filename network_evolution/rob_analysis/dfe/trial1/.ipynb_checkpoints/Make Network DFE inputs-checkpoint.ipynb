{
 "cells": [
  {
   "cell_type": "markdown",
   "metadata": {},
   "source": [
    "Look at correlation\n"
   ]
  },
  {
   "cell_type": "code",
   "execution_count": 1,
   "metadata": {},
   "outputs": [],
   "source": [
    "%matplotlib inline\n",
    "import pandas as pd"
   ]
  },
  {
   "cell_type": "code",
   "execution_count": 4,
   "metadata": {},
   "outputs": [
    {
     "name": "stdout",
     "output_type": "stream",
     "text": [
      "(5216, 16)\n",
      "            number       degree  differences_0       total_0  differences_2  \\\n",
      "count  5216.000000  5216.000000    5216.000000   5216.000000    5216.000000   \n",
      "mean   2949.014571    30.707630     171.462615   1244.948428      54.301380   \n",
      "std    1709.771175    49.538052     325.318410   1200.157729      77.289418   \n",
      "min       0.000000     1.000000       0.000000     72.000000       0.000000   \n",
      "25%    1473.750000     3.000000      23.000000    517.000000      15.000000   \n",
      "50%    2950.500000     9.000000      69.000000    899.000000      30.000000   \n",
      "75%    4430.500000    34.000000     191.000000   1514.000000      64.000000   \n",
      "max    5896.000000   274.000000    5827.000000  14300.000000    1202.000000   \n",
      "\n",
      "           total_2  differences_4      total_4  JC_distance_0  JC_distance_2  \\\n",
      "count  5216.000000    5216.000000  5216.000000    5200.000000    5177.000000   \n",
      "mean    265.098926     138.314609   408.729103       0.138623       0.233246   \n",
      "std     244.762379     175.626462   417.933274       0.234587       0.274255   \n",
      "min      10.000000       0.000000    17.000000       0.000000       0.000000   \n",
      "25%     117.000000      40.000000   157.000000       0.039149       0.115257   \n",
      "50%     196.000000      82.000000   282.000000       0.084737       0.184454   \n",
      "75%     326.000000     163.000000   500.000000       0.160293       0.276875   \n",
      "max    2804.000000    2343.000000  5188.000000       5.864124       5.210953   \n",
      "\n",
      "       JC_distance_4  \n",
      "count    5116.000000  \n",
      "mean        0.404162  \n",
      "std         0.225721  \n",
      "min         0.000000  \n",
      "25%         0.284617  \n",
      "50%         0.381696  \n",
      "75%         0.494917  \n",
      "max         5.420747  \n"
     ]
    },
    {
     "data": {
      "text/html": [
       "<div>\n",
       "<table border=\"1\" class=\"dataframe\">\n",
       "  <thead>\n",
       "    <tr style=\"text-align: right;\">\n",
       "      <th></th>\n",
       "      <th>number</th>\n",
       "      <th>genename</th>\n",
       "      <th>degree</th>\n",
       "      <th>SFS0</th>\n",
       "      <th>SFS4</th>\n",
       "      <th>SFS0_theta_pi</th>\n",
       "      <th>SFS4_theta_pi</th>\n",
       "      <th>differences_0</th>\n",
       "      <th>total_0</th>\n",
       "      <th>differences_2</th>\n",
       "      <th>total_2</th>\n",
       "      <th>differences_4</th>\n",
       "      <th>total_4</th>\n",
       "      <th>JC_distance_0</th>\n",
       "      <th>JC_distance_2</th>\n",
       "      <th>JC_distance_4</th>\n",
       "    </tr>\n",
       "  </thead>\n",
       "  <tbody>\n",
       "    <tr>\n",
       "      <th>0</th>\n",
       "      <td>0</td>\n",
       "      <td>Cre13.g580900</td>\n",
       "      <td>36</td>\n",
       "      <td>[1291, 9, 1, 2, 3, 1, 0, 0, 1, 0, 0, 0, 0, 0, ...</td>\n",
       "      <td>[322, 10, 3, 7, 2, 1, 2, 6, 1, 0, 0, 0, 0, 0,...</td>\n",
       "      <td>0.002938178</td>\n",
       "      <td>0.026660758</td>\n",
       "      <td>126</td>\n",
       "      <td>1348</td>\n",
       "      <td>62</td>\n",
       "      <td>325</td>\n",
       "      <td>117</td>\n",
       "      <td>368</td>\n",
       "      <td>0.099831</td>\n",
       "      <td>0.220133</td>\n",
       "      <td>0.413622</td>\n",
       "    </tr>\n",
       "    <tr>\n",
       "      <th>1</th>\n",
       "      <td>1</td>\n",
       "      <td>g11482</td>\n",
       "      <td>2</td>\n",
       "      <td>[710, 4, 4, 0, 0, 1, 0, 0, 0, 0, 0, 0, 0, 0, 0...</td>\n",
       "      <td>[173, 10, 10, 5, 3, 0, 0, 1, 2, 0, 0, 0, 0, 0...</td>\n",
       "      <td>0.002372576</td>\n",
       "      <td>0.035883634</td>\n",
       "      <td>361</td>\n",
       "      <td>1210</td>\n",
       "      <td>99</td>\n",
       "      <td>285</td>\n",
       "      <td>150</td>\n",
       "      <td>353</td>\n",
       "      <td>0.380369</td>\n",
       "      <td>0.466538</td>\n",
       "      <td>0.627023</td>\n",
       "    </tr>\n",
       "    <tr>\n",
       "      <th>2</th>\n",
       "      <td>2</td>\n",
       "      <td>g10015</td>\n",
       "      <td>2</td>\n",
       "      <td>[3077, 61, 21, 16, 14, 6, 5, 4, 5, 3, 0, 0, 0,...</td>\n",
       "      <td>[946, 59, 39, 30, 16, 8, 13, 10, 6, 2, 0, 0, ...</td>\n",
       "      <td>0.009999267</td>\n",
       "      <td>0.042637073</td>\n",
       "      <td>197</td>\n",
       "      <td>1080</td>\n",
       "      <td>71</td>\n",
       "      <td>244</td>\n",
       "      <td>136</td>\n",
       "      <td>350</td>\n",
       "      <td>0.209002</td>\n",
       "      <td>0.368240</td>\n",
       "      <td>0.547507</td>\n",
       "    </tr>\n",
       "    <tr>\n",
       "      <th>3</th>\n",
       "      <td>3</td>\n",
       "      <td>Cre16.g674850</td>\n",
       "      <td>131</td>\n",
       "      <td>[3571, 57, 35, 20, 8, 55, 26, 20, 31, 1, 0, 0,...</td>\n",
       "      <td>[1268, 58, 16, 9, 10, 51, 19, 8, 15, 1, 0, 0,...</td>\n",
       "      <td>0.02219385</td>\n",
       "      <td>0.040621701</td>\n",
       "      <td>222</td>\n",
       "      <td>1796</td>\n",
       "      <td>68</td>\n",
       "      <td>305</td>\n",
       "      <td>239</td>\n",
       "      <td>680</td>\n",
       "      <td>0.135073</td>\n",
       "      <td>0.264585</td>\n",
       "      <td>0.474219</td>\n",
       "    </tr>\n",
       "    <tr>\n",
       "      <th>4</th>\n",
       "      <td>4</td>\n",
       "      <td>Cre07.g342350</td>\n",
       "      <td>22</td>\n",
       "      <td>[1526, 0, 0, 1, 1, 0, 0, 0, 0, 0, 0, 0, 0, 0, ...</td>\n",
       "      <td>[323, 7, 4, 3, 1, 0, 0, 0, 12, 0, 0, 0, 0, 0,...</td>\n",
       "      <td>0.000432023</td>\n",
       "      <td>0.026106443</td>\n",
       "      <td>11</td>\n",
       "      <td>1523</td>\n",
       "      <td>32</td>\n",
       "      <td>452</td>\n",
       "      <td>61</td>\n",
       "      <td>350</td>\n",
       "      <td>0.007258</td>\n",
       "      <td>0.074364</td>\n",
       "      <td>0.198346</td>\n",
       "    </tr>\n",
       "  </tbody>\n",
       "</table>\n",
       "</div>"
      ],
      "text/plain": [
       "   number       genename  degree  \\\n",
       "0       0  Cre13.g580900      36   \n",
       "1       1         g11482       2   \n",
       "2       2         g10015       2   \n",
       "3       3  Cre16.g674850     131   \n",
       "4       4  Cre07.g342350      22   \n",
       "\n",
       "                                                SFS0  \\\n",
       "0  [1291, 9, 1, 2, 3, 1, 0, 0, 1, 0, 0, 0, 0, 0, ...   \n",
       "1  [710, 4, 4, 0, 0, 1, 0, 0, 0, 0, 0, 0, 0, 0, 0...   \n",
       "2  [3077, 61, 21, 16, 14, 6, 5, 4, 5, 3, 0, 0, 0,...   \n",
       "3  [3571, 57, 35, 20, 8, 55, 26, 20, 31, 1, 0, 0,...   \n",
       "4  [1526, 0, 0, 1, 1, 0, 0, 0, 0, 0, 0, 0, 0, 0, ...   \n",
       "\n",
       "                                                SFS4 SFS0_theta_pi  \\\n",
       "0   [322, 10, 3, 7, 2, 1, 2, 6, 1, 0, 0, 0, 0, 0,...   0.002938178   \n",
       "1   [173, 10, 10, 5, 3, 0, 0, 1, 2, 0, 0, 0, 0, 0...   0.002372576   \n",
       "2   [946, 59, 39, 30, 16, 8, 13, 10, 6, 2, 0, 0, ...   0.009999267   \n",
       "3   [1268, 58, 16, 9, 10, 51, 19, 8, 15, 1, 0, 0,...    0.02219385   \n",
       "4   [323, 7, 4, 3, 1, 0, 0, 0, 12, 0, 0, 0, 0, 0,...   0.000432023   \n",
       "\n",
       "  SFS4_theta_pi  differences_0  total_0  differences_2  total_2  \\\n",
       "0   0.026660758            126     1348             62      325   \n",
       "1   0.035883634            361     1210             99      285   \n",
       "2   0.042637073            197     1080             71      244   \n",
       "3   0.040621701            222     1796             68      305   \n",
       "4   0.026106443             11     1523             32      452   \n",
       "\n",
       "   differences_4  total_4  JC_distance_0  JC_distance_2  JC_distance_4  \n",
       "0            117      368       0.099831       0.220133       0.413622  \n",
       "1            150      353       0.380369       0.466538       0.627023  \n",
       "2            136      350       0.209002       0.368240       0.547507  \n",
       "3            239      680       0.135073       0.264585       0.474219  \n",
       "4             61      350       0.007258       0.074364       0.198346  "
      ]
     },
     "execution_count": 4,
     "metadata": {},
     "output_type": "execute_result"
    }
   ],
   "source": [
    "df = pd.read_table('clean_chlamynet_divergence_SFS.csv', sep=\",\")\n",
    "print(df.shape)\n",
    "print(df.describe())\n",
    "df.head()"
   ]
  },
  {
   "cell_type": "markdown",
   "metadata": {},
   "source": [
    "---\n",
    "# Extract 0 and 4 fold SFSs for fractions of genes\n",
    "---\n",
    " - In this case I identify the top and bottom 10 percent of genes by their network degree\n",
    " - I extract the 0 and 4 fold SFS for the upper and lower 10 percent\n"
   ]
  },
  {
   "cell_type": "code",
   "execution_count": 60,
   "metadata": {},
   "outputs": [],
   "source": [
    "# extract top 10% of degree\n",
    "cutoff_percent  = 0.10\n",
    "number_genes = df.shape[0]\n",
    "cutoff_number = round(number_genes*cutoff_percent)\n",
    "cutoff_high  = sorted(list(df.degree))[number_genes-cutoff_number]\n",
    "cutoff_low = sorted(list(df.degree))[cutoff_number]\n",
    "\n",
    "df_low = df[df.degree <= cutoff_low]\n",
    "df_high = df[df.degree >= cutoff_high]\n"
   ]
  },
  {
   "cell_type": "code",
   "execution_count": 39,
   "metadata": {},
   "outputs": [],
   "source": [
    "def sum_SFSs(list_of_SFSs):\n",
    "    # for a bunch of SFSs that are the same length sum them alllll up into one big one\\\n",
    "#     sfs_size = len(list_of_SFSs[0])\n",
    "#     for i in range(sfs_size):\n",
    "#         sum([sfs[i] for sfs in list_of_SFSs ]\n",
    "    total_SFS = [sum(i) for i in zip(*list_of_SFSs)]\n",
    "    return total_SFS\n",
    "\n",
    "def column2SFSs(column_of_SFSs):\n",
    "    list_of_SFSs = []\n",
    "    for s in list(column_of_SFSs):\n",
    "        exec(\"list_of_SFSs.append(\" + s + \")\")\n",
    "    return list_of_SFSs"
   ]
  },
  {
   "cell_type": "code",
   "execution_count": 45,
   "metadata": {},
   "outputs": [],
   "source": [
    "from ness_vcf import SFS\n",
    "\n",
    "total_SFS0_low = SFS(sum_SFSs(column2SFSs(df_low.SFS0)))\n",
    "total_SFS4_low = SFS(sum_SFSs(column2SFSs(df_low.SFS4)))\n",
    "total_SFS0_high = SFS(sum_SFSs(column2SFSs(df_high.SFS0)))\n",
    "total_SFS4_high= SFS(sum_SFSs(column2SFSs(df_high.SFS4)))\n",
    "\n",
    "SFSs = [total_SFS0_low,total_SFS4_low,total_SFS0_high,total_SFS4_high]\n"
   ]
  },
  {
   "cell_type": "code",
   "execution_count": 53,
   "metadata": {},
   "outputs": [],
   "source": [
    "for s in SFSs:\n",
    "    s.fold()"
   ]
  },
  {
   "cell_type": "code",
   "execution_count": 59,
   "metadata": {},
   "outputs": [
    {
     "name": "stdout",
     "output_type": "stream",
     "text": [
      "[818768, 7349, 3436, 2410, 2010, 1651, 1587, 1324, 1273, 548, 0, 0, 0, 0, 0, 0, 0, 0, 0]\n",
      "[246758, 8821, 4510, 3155, 2809, 2276, 2240, 2051, 1958, 775, 0, 0, 0, 0, 0, 0, 0, 0, 0]\n",
      "[734863, 7336, 3651, 2475, 1941, 1577, 1563, 1286, 1319, 445, 0, 0, 0, 0, 0, 0, 0, 0, 0]\n",
      "[219474, 8299, 4469, 3124, 2731, 2260, 2182, 1915, 1858, 703, 0, 0, 0, 0, 0, 0, 0, 0, 0]\n"
     ]
    }
   ],
   "source": [
    "for s in SFSs:\n",
    "    print(s.sfs)"
   ]
  },
  {
   "cell_type": "markdown",
   "metadata": {},
   "source": [
    "---\n",
    "# Extract divergence for the same genes\n",
    "---\n",
    "- for the same genes I want their 0- and 4-fold divergence\n"
   ]
  },
  {
   "cell_type": "code",
   "execution_count": 66,
   "metadata": {},
   "outputs": [
    {
     "name": "stdout",
     "output_type": "stream",
     "text": [
      "perc Sites Diffs\n",
      "Low:  744852 102508\n",
      "Low:  245721 83562\n",
      "High:  697534 93176\n",
      "High:  229789 77485\n"
     ]
    }
   ],
   "source": [
    "print(\"perc Sites Diffs\")\n",
    "print(\"Low: \", sum(df_low.total_0), sum(df_low.differences_0))\n",
    "print(\"Low: \", sum(df_low.total_4), sum(df_low.differences_4))\n",
    "print(\"High: \", sum(df_high.total_0), sum(df_high.differences_0))\n",
    "print(\"High: \", sum(df_high.total_4), sum(df_high.differences_4))"
   ]
  },
  {
   "cell_type": "code",
   "execution_count": null,
   "metadata": {},
   "outputs": [],
   "source": []
  }
 ],
 "metadata": {
  "kernelspec": {
   "display_name": "Python 3",
   "language": "python",
   "name": "python3"
  },
  "language_info": {
   "codemirror_mode": {
    "name": "ipython",
    "version": 3
   },
   "file_extension": ".py",
   "mimetype": "text/x-python",
   "name": "python",
   "nbconvert_exporter": "python",
   "pygments_lexer": "ipython3",
   "version": "3.5.1"
  }
 },
 "nbformat": 4,
 "nbformat_minor": 2
}
