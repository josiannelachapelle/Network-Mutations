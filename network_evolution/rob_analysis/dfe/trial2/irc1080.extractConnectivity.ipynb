{
 "cells": [
  {
   "cell_type": "code",
   "execution_count": 1,
   "metadata": {
    "collapsed": true
   },
   "outputs": [],
   "source": [
    "%matplotlib inline\n",
    "import pandas as pd\n"
   ]
  },
  {
   "cell_type": "code",
   "execution_count": 3,
   "metadata": {
    "collapsed": false
   },
   "outputs": [
    {
     "name": "stdout",
     "output_type": "stream",
     "text": [
      "(582, 19)\n",
      "          ﻿number       diff_0      total_0  JC_distance_0      diff_2  \\\n",
      "count  582.000000   582.000000   582.000000     579.000000  582.000000   \n",
      "mean   373.503436    62.072165   899.384880       0.064411   23.506873   \n",
      "std    216.052256   236.906109   568.667325       0.195057   47.307422   \n",
      "min      2.000000     0.000000    99.000000       0.000000    0.000000   \n",
      "25%    182.250000    11.000000   567.250000       0.017107    8.000000   \n",
      "50%    371.500000    23.000000   774.500000       0.029904   15.000000   \n",
      "75%    564.750000    47.000000  1074.000000       0.055584   25.000000   \n",
      "max    737.000000  4157.000000  5233.000000       2.341014  737.000000   \n",
      "\n",
      "           total_2  JC_distance_2       diff_4      total_4  JC_distance_4  \\\n",
      "count   582.000000     575.000000   582.000000   582.000000     570.000000   \n",
      "mean    198.209622       0.119890    65.029210   269.496564       0.252503   \n",
      "std     124.091150       0.177777    92.201554   177.905598       0.084548   \n",
      "min      20.000000       0.000000     2.000000    31.000000       0.027152   \n",
      "25%     123.250000       0.054872    31.250000   168.250000       0.187496   \n",
      "50%     172.000000       0.097858    46.500000   230.000000       0.253661   \n",
      "75%     233.750000       0.143823    74.000000   326.750000       0.317231   \n",
      "max    1024.000000       2.486878  1594.000000  1836.000000       0.409689   \n",
      "\n",
      "       SFS0_theta_pi  SFS4_theta_pi  max_connectivity  sum_connectivity  \n",
      "count     580.000000     577.000000        582.000000        582.000000  \n",
      "mean        0.002210       0.023355          4.900344         19.388316  \n",
      "std         0.002978       0.012457          1.359748         51.992887  \n",
      "min         0.000000       0.000000          2.000000          2.000000  \n",
      "25%         0.000333       0.014006          4.000000          5.000000  \n",
      "50%         0.001275       0.021811          5.000000          7.000000  \n",
      "75%         0.002995       0.031405          6.000000         13.000000  \n",
      "max         0.039231       0.067197          9.000000        479.000000  \n"
     ]
    },
    {
     "data": {
      "text/html": [
       "<div>\n",
       "<table border=\"1\" class=\"dataframe\">\n",
       "  <thead>\n",
       "    <tr style=\"text-align: right;\">\n",
       "      <th></th>\n",
       "      <th>﻿number</th>\n",
       "      <th>reinhardtii_gene</th>\n",
       "      <th>Gene_name</th>\n",
       "      <th>diff_0</th>\n",
       "      <th>total_0</th>\n",
       "      <th>JC_distance_0</th>\n",
       "      <th>diff_2</th>\n",
       "      <th>total_2</th>\n",
       "      <th>JC_distance_2</th>\n",
       "      <th>diff_4</th>\n",
       "      <th>total_4</th>\n",
       "      <th>JC_distance_4</th>\n",
       "      <th>SFS0</th>\n",
       "      <th>SFS0_theta_pi</th>\n",
       "      <th>SFS4</th>\n",
       "      <th>SFS4_theta_pi</th>\n",
       "      <th>connectivity</th>\n",
       "      <th>max_connectivity</th>\n",
       "      <th>sum_connectivity</th>\n",
       "    </tr>\n",
       "  </thead>\n",
       "  <tbody>\n",
       "    <tr>\n",
       "      <th>0</th>\n",
       "      <td>235</td>\n",
       "      <td>Cre01_g012600_t1_3|PACid:26903784</td>\n",
       "      <td>Cre01.g012600</td>\n",
       "      <td>72</td>\n",
       "      <td>1246</td>\n",
       "      <td>0.060132</td>\n",
       "      <td>59</td>\n",
       "      <td>286</td>\n",
       "      <td>0.241248</td>\n",
       "      <td>131</td>\n",
       "      <td>415</td>\n",
       "      <td>0.409689</td>\n",
       "      <td>[1238, 6, 1, 3, 0, 2, 1, 5, 3, 2, 0, 0, 0, 0, ...</td>\n",
       "      <td>0.006520</td>\n",
       "      <td>[382, 11, 0, 2, 1, 4, 0, 7, 8, 1, 0, 0, 0, 0, ...</td>\n",
       "      <td>0.029113</td>\n",
       "      <td>[['595', '2'], ['864', '2']]</td>\n",
       "      <td>2</td>\n",
       "      <td>4</td>\n",
       "    </tr>\n",
       "    <tr>\n",
       "      <th>1</th>\n",
       "      <td>551</td>\n",
       "      <td>Cre06_g307300_t1_3|PACid:26894615</td>\n",
       "      <td>Cre06.g307300</td>\n",
       "      <td>88</td>\n",
       "      <td>809</td>\n",
       "      <td>0.117521</td>\n",
       "      <td>28</td>\n",
       "      <td>177</td>\n",
       "      <td>0.177668</td>\n",
       "      <td>93</td>\n",
       "      <td>295</td>\n",
       "      <td>0.408984</td>\n",
       "      <td>[830, 7, 1, 3, 2, 1, 1, 0, 1, 1, 0, 0, 0, 0, 0...</td>\n",
       "      <td>0.005371</td>\n",
       "      <td>[262, 9, 3, 3, 9, 2, 0, 2, 3, 1, 0, 0, 0, 0, 0...</td>\n",
       "      <td>0.033191</td>\n",
       "      <td>[['1888', '6']]</td>\n",
       "      <td>6</td>\n",
       "      <td>6</td>\n",
       "    </tr>\n",
       "    <tr>\n",
       "      <th>2</th>\n",
       "      <td>548</td>\n",
       "      <td>Cre04_g223050_t1_2|PACid:26905562</td>\n",
       "      <td>Cre04.g223050</td>\n",
       "      <td>35</td>\n",
       "      <td>344</td>\n",
       "      <td>0.109341</td>\n",
       "      <td>17</td>\n",
       "      <td>76</td>\n",
       "      <td>0.265629</td>\n",
       "      <td>28</td>\n",
       "      <td>89</td>\n",
       "      <td>0.407868</td>\n",
       "      <td>[667, 2, 1, 0, 0, 0, 0, 1, 1, 1, 0, 0, 0, 0, 0...</td>\n",
       "      <td>0.002952</td>\n",
       "      <td>[168, 5, 0, 0, 0, 0, 0, 0, 1, 1, 0, 0, 0, 0, 0...</td>\n",
       "      <td>0.009188</td>\n",
       "      <td>[['1625', '4']]</td>\n",
       "      <td>4</td>\n",
       "      <td>4</td>\n",
       "    </tr>\n",
       "    <tr>\n",
       "      <th>3</th>\n",
       "      <td>715</td>\n",
       "      <td>Cre16_g659350_t1_2|PACid:26891370</td>\n",
       "      <td>Cre16.g659350</td>\n",
       "      <td>3</td>\n",
       "      <td>273</td>\n",
       "      <td>0.011070</td>\n",
       "      <td>5</td>\n",
       "      <td>70</td>\n",
       "      <td>0.075063</td>\n",
       "      <td>22</td>\n",
       "      <td>70</td>\n",
       "      <td>0.407315</td>\n",
       "      <td>[271, 1, 1, 0, 0, 1, 0, 0, 0, 0, 0, 0, 0, 0, 0...</td>\n",
       "      <td>0.002719</td>\n",
       "      <td>[71, 0, 0, 0, 0, 0, 0, 0, 0, 0, 0, 0, 0, 0, 0,...</td>\n",
       "      <td>0.000000</td>\n",
       "      <td>[['1658', '7'], ['2192', '2']]</td>\n",
       "      <td>7</td>\n",
       "      <td>9</td>\n",
       "    </tr>\n",
       "    <tr>\n",
       "      <th>4</th>\n",
       "      <td>427</td>\n",
       "      <td>Cre01_g035350_t1_2|PACid:26903802</td>\n",
       "      <td>Cre01.g035350</td>\n",
       "      <td>67</td>\n",
       "      <td>691</td>\n",
       "      <td>0.103827</td>\n",
       "      <td>19</td>\n",
       "      <td>124</td>\n",
       "      <td>0.171401</td>\n",
       "      <td>75</td>\n",
       "      <td>239</td>\n",
       "      <td>0.406492</td>\n",
       "      <td>[674, 5, 6, 0, 0, 0, 1, 0, 1, 0, 0, 0, 0, 0, 0...</td>\n",
       "      <td>0.004081</td>\n",
       "      <td>[203, 10, 4, 5, 2, 5, 1, 0, 2, 2, 0, 0, 0, 0, ...</td>\n",
       "      <td>0.037819</td>\n",
       "      <td>[['1502', '5'], ['1511', '5'], ['1504', '5'], ...</td>\n",
       "      <td>5</td>\n",
       "      <td>40</td>\n",
       "    </tr>\n",
       "  </tbody>\n",
       "</table>\n",
       "</div>"
      ],
      "text/plain": [
       "   ﻿number                   reinhardtii_gene      Gene_name  diff_0  total_0  \\\n",
       "0      235  Cre01_g012600_t1_3|PACid:26903784  Cre01.g012600      72     1246   \n",
       "1      551  Cre06_g307300_t1_3|PACid:26894615  Cre06.g307300      88      809   \n",
       "2      548  Cre04_g223050_t1_2|PACid:26905562  Cre04.g223050      35      344   \n",
       "3      715  Cre16_g659350_t1_2|PACid:26891370  Cre16.g659350       3      273   \n",
       "4      427  Cre01_g035350_t1_2|PACid:26903802  Cre01.g035350      67      691   \n",
       "\n",
       "   JC_distance_0  diff_2  total_2  JC_distance_2  diff_4  total_4  \\\n",
       "0       0.060132      59      286       0.241248     131      415   \n",
       "1       0.117521      28      177       0.177668      93      295   \n",
       "2       0.109341      17       76       0.265629      28       89   \n",
       "3       0.011070       5       70       0.075063      22       70   \n",
       "4       0.103827      19      124       0.171401      75      239   \n",
       "\n",
       "   JC_distance_4                                               SFS0  \\\n",
       "0       0.409689  [1238, 6, 1, 3, 0, 2, 1, 5, 3, 2, 0, 0, 0, 0, ...   \n",
       "1       0.408984  [830, 7, 1, 3, 2, 1, 1, 0, 1, 1, 0, 0, 0, 0, 0...   \n",
       "2       0.407868  [667, 2, 1, 0, 0, 0, 0, 1, 1, 1, 0, 0, 0, 0, 0...   \n",
       "3       0.407315  [271, 1, 1, 0, 0, 1, 0, 0, 0, 0, 0, 0, 0, 0, 0...   \n",
       "4       0.406492  [674, 5, 6, 0, 0, 0, 1, 0, 1, 0, 0, 0, 0, 0, 0...   \n",
       "\n",
       "   SFS0_theta_pi                                               SFS4  \\\n",
       "0       0.006520  [382, 11, 0, 2, 1, 4, 0, 7, 8, 1, 0, 0, 0, 0, ...   \n",
       "1       0.005371  [262, 9, 3, 3, 9, 2, 0, 2, 3, 1, 0, 0, 0, 0, 0...   \n",
       "2       0.002952  [168, 5, 0, 0, 0, 0, 0, 0, 1, 1, 0, 0, 0, 0, 0...   \n",
       "3       0.002719  [71, 0, 0, 0, 0, 0, 0, 0, 0, 0, 0, 0, 0, 0, 0,...   \n",
       "4       0.004081  [203, 10, 4, 5, 2, 5, 1, 0, 2, 2, 0, 0, 0, 0, ...   \n",
       "\n",
       "   SFS4_theta_pi                                       connectivity  \\\n",
       "0       0.029113                       [['595', '2'], ['864', '2']]   \n",
       "1       0.033191                                    [['1888', '6']]   \n",
       "2       0.009188                                    [['1625', '4']]   \n",
       "3       0.000000                     [['1658', '7'], ['2192', '2']]   \n",
       "4       0.037819  [['1502', '5'], ['1511', '5'], ['1504', '5'], ...   \n",
       "\n",
       "   max_connectivity  sum_connectivity  \n",
       "0                 2                 4  \n",
       "1                 6                 6  \n",
       "2                 4                 4  \n",
       "3                 7                 9  \n",
       "4                 5                40  "
      ]
     },
     "execution_count": 3,
     "metadata": {},
     "output_type": "execute_result"
    }
   ],
   "source": [
    "df = pd.read_table('irc1080_table_filtered.csv', sep=\",\")\n",
    "print(df.shape)\n",
    "print(df.describe())\n",
    "df.head()"
   ]
  },
  {
   "cell_type": "code",
   "execution_count": 19,
   "metadata": {
    "collapsed": false
   },
   "outputs": [
    {
     "data": {
      "text/plain": [
       "['\\xef\\xbb\\xbfnumber',\n",
       " 'reinhardtii_gene',\n",
       " 'Gene_name',\n",
       " 'diff_0',\n",
       " 'total_0',\n",
       " 'JC_distance_0',\n",
       " 'diff_2',\n",
       " 'total_2',\n",
       " 'JC_distance_2',\n",
       " 'diff_4',\n",
       " 'total_4',\n",
       " 'JC_distance_4',\n",
       " 'SFS0',\n",
       " 'SFS0_theta_pi',\n",
       " 'SFS4',\n",
       " 'SFS4_theta_pi',\n",
       " 'connectivity',\n",
       " 'max_connectivity',\n",
       " 'sum_connectivity']"
      ]
     },
     "execution_count": 19,
     "metadata": {},
     "output_type": "execute_result"
    }
   ],
   "source": [
    "list(df.columns)"
   ]
  },
  {
   "cell_type": "code",
   "execution_count": 4,
   "metadata": {
    "collapsed": false
   },
   "outputs": [],
   "source": [
    "# extract top 10% of degree\n",
    "cutoff_percent  = 0.10\n",
    "number_genes = df.shape[0]\n",
    "cutoff_number = int(round(number_genes*cutoff_percent))\n",
    "cutoff_high  = sorted(list(df.sum_connectivity ))[number_genes-cutoff_number]\n",
    "cutoff_low = sorted(list(df.sum_connectivity ))[cutoff_number]\n",
    "\n",
    "df_low = df[df.sum_connectivity <= cutoff_low]\n",
    "df_high = df[df.sum_connectivity >= cutoff_high]\n"
   ]
  },
  {
   "cell_type": "code",
   "execution_count": 5,
   "metadata": {
    "collapsed": true
   },
   "outputs": [],
   "source": [
    "def sum_SFSs(list_of_SFSs):\n",
    "    # for a bunch of SFSs that are the same length sum them alllll up into one big one\\\n",
    "#     sfs_size = len(list_of_SFSs[0])\n",
    "#     for i in range(sfs_size):\n",
    "#         sum([sfs[i] for sfs in list_of_SFSs ]\n",
    "    total_SFS = [sum(i) for i in zip(*list_of_SFSs)]\n",
    "    return total_SFS\n",
    "\n",
    "def column2SFSs(column_of_SFSs):\n",
    "    list_of_SFSs = []\n",
    "    for s in list(column_of_SFSs):\n",
    "        exec(\"list_of_SFSs.append(\" + s + \")\")\n",
    "    return list_of_SFSs"
   ]
  },
  {
   "cell_type": "code",
   "execution_count": 6,
   "metadata": {
    "collapsed": false
   },
   "outputs": [],
   "source": [
    "from ness_vcf import SFS\n",
    "\n",
    "total_SFS0_low = SFS(sum_SFSs(column2SFSs(df_low.SFS0)))\n",
    "total_SFS4_low = SFS(sum_SFSs(column2SFSs(df_low.SFS4)))\n",
    "total_SFS0_high = SFS(sum_SFSs(column2SFSs(df_high.SFS0)))\n",
    "total_SFS4_high= SFS(sum_SFSs(column2SFSs(df_high.SFS4)))\n",
    "\n",
    "SFSs = [total_SFS0_low,total_SFS4_low,total_SFS0_high,total_SFS4_high]\n"
   ]
  },
  {
   "cell_type": "code",
   "execution_count": 15,
   "metadata": {
    "collapsed": false
   },
   "outputs": [
    {
     "name": "stdout",
     "output_type": "stream",
     "text": [
      "lower\n",
      "1\n",
      "18\n",
      "94585 287 101 85 63 60 33 49 46 25 0 0 0 0 0 0 0 0 0\n",
      "26090 725 286 299 265 220 174 177 164 89 0 0 0 0 0 0 0 0 0\n",
      "\n",
      "upper\n",
      "1\n",
      "18\n",
      "55698 252 99 73 33 41 33 24 20 6 0 0 0 0 0 0 0 0 0\n",
      "15847 495 227 177 113 125 100 95 69 31 0 0 0 0 0 0 0 0 0\n"
     ]
    }
   ],
   "source": [
    "for s in SFSs:\n",
    "    s.fold()\n",
    "\n",
    "print(\"lower\")\n",
    "print(1)\n",
    "print(len(SFSs[0].sfs)-1)\n",
    "print(\" \".join([str(i) for i in SFSs[0].sfs]))\n",
    "print(\" \".join([str(i) for i in SFSs[1].sfs]))\n",
    "\n",
    "print(\"\\nupper\")\n",
    "print(1)\n",
    "print(len(SFSs[0].sfs)-1)\n",
    "print(\" \".join([str(i) for i in SFSs[2].sfs]))\n",
    "print(\" \".join([str(i) for i in SFSs[3].sfs]))"
   ]
  },
  {
   "cell_type": "code",
   "execution_count": 9,
   "metadata": {
    "collapsed": false
   },
   "outputs": [
    {
     "name": "stdout",
     "output_type": "stream",
     "text": [
      "perc Sites Diffs\n",
      "lower10th\n",
      "1 93255 5516\n",
      "0 28057 6539\n",
      "Upper10th\n",
      "1 54285 5306\n",
      "0 16648 4544\n"
     ]
    }
   ],
   "source": [
    "print(\"perc Sites Diffs\")\n",
    "print(\"lower10th\")\n",
    "print(1, sum(df_low.total_0), sum(df_low.diff_0))\n",
    "print(0, sum(df_low.total_4), sum(df_low.diff_4))\n",
    "print(\"Upper10th\")\n",
    "print(1, sum(df_high.total_0), sum(df_high.diff_0))\n",
    "print(0, sum(df_high.total_4), sum(df_high.diff_4))"
   ]
  },
  {
   "cell_type": "code",
   "execution_count": null,
   "metadata": {
    "collapsed": true
   },
   "outputs": [],
   "source": []
  }
 ],
 "metadata": {
  "kernelspec": {
   "display_name": "Python 2",
   "language": "python",
   "name": "python2"
  },
  "language_info": {
   "codemirror_mode": {
    "name": "ipython",
    "version": 3
   },
   "file_extension": ".py",
   "mimetype": "text/x-python",
   "name": "python",
   "nbconvert_exporter": "python",
   "pygments_lexer": "ipython3",
   "version": "3.5.1"
  }
 },
 "nbformat": 4,
 "nbformat_minor": 2
}
